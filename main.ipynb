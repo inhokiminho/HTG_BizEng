{
 "cells": [
  {
   "cell_type": "markdown",
   "metadata": {},
   "source": [
    "### Team BizEng HTG Github Repo\n",
    "##### Team members: Yirui Tao, Binh Mai, Inho Kim, Joy Lai"
   ]
  },
  {
   "cell_type": "markdown",
   "metadata": {},
   "source": []
  }
 ],
 "metadata": {
  "language_info": {
   "name": "python"
  }
 },
 "nbformat": 4,
 "nbformat_minor": 2
}
